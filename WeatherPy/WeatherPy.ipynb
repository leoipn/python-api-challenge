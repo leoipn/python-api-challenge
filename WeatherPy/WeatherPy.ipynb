{
 "cells": [
  {
   "cell_type": "markdown",
   "metadata": {},
   "source": [
    "# WeatherPy\n",
    "----\n",
    "\n",
    "#### Note\n",
    "* Instructions have been included for each segment. You do not have to follow them exactly, but they are included to help you think through the steps."
   ]
  },
  {
   "cell_type": "code",
   "execution_count": 1,
   "metadata": {
    "scrolled": true
   },
   "outputs": [],
   "source": [
    "# Dependencies and Setup\n",
    "import matplotlib.pyplot as plt\n",
    "import pandas as pd\n",
    "import numpy as np\n",
    "import requests\n",
    "import time\n",
    "from scipy.stats import linregress\n",
    "import scipy.stats as st\n",
    "\n",
    "# Import API key\n",
    "from api_keys import weather_api_key\n",
    "\n",
    "# Incorporated citipy to determine city based on latitude and longitude\n",
    "from citipy import citipy\n",
    "\n",
    "# Output File (CSV)\n",
    "output_data_file = \"output_data/cities.csv\"\n",
    "\n",
    "# Range of latitudes and longitudes\n",
    "lat_range = (-90, 90)\n",
    "lng_range = (-180, 180)"
   ]
  },
  {
   "cell_type": "markdown",
   "metadata": {},
   "source": [
    "## Generate Cities List"
   ]
  },
  {
   "cell_type": "code",
   "execution_count": 2,
   "metadata": {},
   "outputs": [
    {
     "data": {
      "text/plain": [
       "600"
      ]
     },
     "execution_count": 2,
     "metadata": {},
     "output_type": "execute_result"
    }
   ],
   "source": [
    "# List for holding lat_lngs and cities\n",
    "lat_lngs = []\n",
    "cities = []\n",
    "\n",
    "# Create a set of random lat and lng combinations\n",
    "lats = np.random.uniform(lat_range[0], lat_range[1], size=1500)\n",
    "lngs = np.random.uniform(lng_range[0], lng_range[1], size=1500)\n",
    "lat_lngs = zip(lats, lngs)\n",
    "\n",
    "# Identify nearest city for each lat, lng combination\n",
    "for lat_lng in lat_lngs:\n",
    "    city = citipy.nearest_city(lat_lng[0], lat_lng[1]).city_name\n",
    "    \n",
    "    # If the city is unique, then add it to a our cities list\n",
    "    if city not in cities:\n",
    "        cities.append(city)\n",
    "\n",
    "# Print the city count to confirm sufficient count\n",
    "len(cities)"
   ]
  },
  {
   "cell_type": "markdown",
   "metadata": {},
   "source": [
    "### Perform API Calls\n",
    "* Perform a weather check on each city using a series of successive API calls.\n",
    "* Include a print log of each city as it'sbeing processed (with the city number and city name).\n"
   ]
  },
  {
   "cell_type": "code",
   "execution_count": 3,
   "metadata": {},
   "outputs": [],
   "source": [
    "new_cities = []\n",
    "lat        = []\n",
    "lng        = []\n",
    "max_temp   = []\n",
    "humidity   = []\n",
    "cloudiness = []\n",
    "wind_speed = []\n",
    "country    = []\n",
    "date       = []"
   ]
  },
  {
   "cell_type": "code",
   "execution_count": 4,
   "metadata": {
    "scrolled": true
   },
   "outputs": [
    {
     "name": "stdout",
     "output_type": "stream",
     "text": [
      "Beginning Data Retrieval\n",
      "-----------------------------\n",
      "Processing Record 1 of Set 1 | kaitangata\n",
      "Processing Record 2 of Set 1 | rikitea\n",
      "Processing Record 3 of Set 1 | hilo\n",
      "Processing Record 4 of Set 1 | hermanus\n",
      "City not found. Skipping...\n",
      "Processing Record 5 of Set 1 | tumannyy\n",
      "Processing Record 6 of Set 1 | ushuaia\n",
      "Processing Record 7 of Set 1 | caravelas\n",
      "Processing Record 8 of Set 1 | victoria\n",
      "City not found. Skipping...\n",
      "Processing Record 9 of Set 1 | saleaula\n",
      "Processing Record 10 of Set 1 | vaini\n",
      "Processing Record 11 of Set 1 | khandyga\n",
      "Processing Record 12 of Set 1 | barrow\n",
      "City not found. Skipping...\n",
      "Processing Record 13 of Set 1 | barentsburg\n",
      "Processing Record 14 of Set 1 | bunia\n",
      "Processing Record 15 of Set 1 | longyearbyen\n",
      "Processing Record 16 of Set 1 | hithadhoo\n",
      "Processing Record 17 of Set 1 | kitimat\n",
      "Processing Record 18 of Set 1 | winneba\n",
      "Processing Record 19 of Set 1 | banda aceh\n",
      "Processing Record 20 of Set 1 | yellowknife\n",
      "Processing Record 21 of Set 1 | punta arenas\n",
      "Processing Record 22 of Set 1 | kodiak\n",
      "Processing Record 23 of Set 1 | saint anthony\n",
      "Processing Record 24 of Set 1 | bima\n",
      "Processing Record 25 of Set 1 | atuona\n",
      "Processing Record 26 of Set 1 | ketchikan\n",
      "Processing Record 27 of Set 1 | cape town\n",
      "Processing Record 28 of Set 1 | mahebourg\n",
      "City not found. Skipping...\n",
      "Processing Record 29 of Set 1 | yian\n",
      "Processing Record 30 of Set 1 | salvador\n",
      "Processing Record 31 of Set 1 | los llanos de aridane\n",
      "Processing Record 32 of Set 1 | pringsewu\n",
      "Processing Record 33 of Set 1 | bethel\n",
      "Processing Record 34 of Set 1 | qaanaaq\n",
      "Processing Record 35 of Set 1 | vardo\n",
      "Processing Record 36 of Set 1 | vostok\n",
      "Processing Record 37 of Set 1 | dikson\n",
      "Processing Record 38 of Set 1 | new norfolk\n",
      "City not found. Skipping...\n",
      "Processing Record 39 of Set 1 | illoqqortoormiut\n",
      "Processing Record 40 of Set 1 | dolinsk\n",
      "Processing Record 41 of Set 1 | khatanga\n",
      "Processing Record 42 of Set 1 | mar del plata\n",
      "City not found. Skipping...\n",
      "Processing Record 43 of Set 1 | umzimvubu\n",
      "Processing Record 44 of Set 1 | jamestown\n",
      "Processing Record 45 of Set 1 | mount isa\n",
      "Processing Record 46 of Set 1 | georgetown\n",
      "Processing Record 47 of Set 1 | narsaq\n",
      "Processing Record 48 of Set 1 | kemi\n",
      "Processing Record 49 of Set 1 | korla\n",
      "Processing Record 50 of Set 1 | kapaa\n",
      "Processing Record 51 of Set 1 | riyadh\n",
      "City not found. Skipping...\n",
      "Processing Record 52 of Set 1 | nizhneyansk\n",
      "City not found. Skipping...\n",
      "Processing Record 53 of Set 1 | belushya guba\n",
      "Processing Record 54 of Set 1 | thompson\n",
      "Processing Record 55 of Set 1 | port alfred\n",
      "Processing Record 56 of Set 1 | powell river\n",
      "Processing Record 57 of Set 1 | sokolo\n",
      "Processing Record 58 of Set 1 | avera\n",
      "Processing Record 59 of Set 1 | mataura\n",
      "Processing Record 60 of Set 1 | coahuayana\n",
      "Processing Record 61 of Set 1 | zunyi\n",
      "Processing Record 62 of Set 1 | touros\n",
      "Processing Record 63 of Set 1 | colomi\n",
      "Processing Record 64 of Set 1 | whittlesea\n",
      "Processing Record 65 of Set 1 | hobart\n",
      "Processing Record 66 of Set 1 | aspindza\n",
      "Processing Record 67 of Set 1 | kenai\n",
      "Processing Record 68 of Set 1 | torbay\n",
      "Processing Record 69 of Set 1 | aracaju\n",
      "Processing Record 70 of Set 1 | chokurdakh\n",
      "Processing Record 71 of Set 1 | melfi\n",
      "Processing Record 72 of Set 1 | kutum\n",
      "Processing Record 73 of Set 1 | arraial do cabo\n",
      "Processing Record 74 of Set 1 | san quintin\n",
      "Processing Record 75 of Set 1 | husavik\n",
      "Processing Record 76 of Set 1 | bengkulu\n",
      "City not found. Skipping...\n",
      "Processing Record 77 of Set 1 | mys shmidta\n",
      "Processing Record 78 of Set 1 | duncan\n",
      "Processing Record 79 of Set 1 | axim\n",
      "Processing Record 80 of Set 1 | carnarvon\n",
      "Processing Record 81 of Set 1 | bredasdorp\n",
      "Processing Record 82 of Set 1 | severo-kurilsk\n",
      "Processing Record 83 of Set 1 | xuddur\n",
      "Processing Record 84 of Set 1 | tuktoyaktuk\n",
      "Processing Record 85 of Set 1 | haverfordwest\n",
      "Processing Record 86 of Set 1 | qaqortoq\n",
      "Processing Record 87 of Set 1 | balabac\n",
      "Processing Record 88 of Set 1 | luzhou\n",
      "Processing Record 89 of Set 1 | xacmaz\n",
      "Processing Record 90 of Set 1 | phan thiet\n",
      "Processing Record 91 of Set 1 | avarua\n",
      "Processing Record 92 of Set 1 | marrakesh\n",
      "City not found. Skipping...\n",
      "Processing Record 93 of Set 1 | sedelnikovo\n",
      "Processing Record 94 of Set 1 | butaritari\n",
      "Processing Record 95 of Set 1 | namatanai\n",
      "Processing Record 96 of Set 1 | faanui\n",
      "Processing Record 97 of Set 1 | bongandanga\n",
      "Processing Record 98 of Set 1 | cabo san lucas\n",
      "Processing Record 99 of Set 1 | port blair\n",
      "Processing Record 100 of Set 1 | isangel\n",
      "Processing Record 101 of Set 1 | beringovskiy\n",
      "Processing Record 102 of Set 1 | hamilton\n",
      "Processing Record 103 of Set 1 | norman wells\n",
      "Processing Record 104 of Set 1 | sisophon\n",
      "Processing Record 105 of Set 1 | pisco\n",
      "Processing Record 106 of Set 1 | new delhi\n",
      "Processing Record 107 of Set 1 | shishou\n",
      "Processing Record 108 of Set 1 | lompoc\n",
      "Processing Record 109 of Set 1 | qui nhon\n",
      "Processing Record 110 of Set 1 | eureka\n",
      "Processing Record 111 of Set 1 | tuatapere\n",
      "Processing Record 112 of Set 1 | egvekinot\n",
      "Processing Record 113 of Set 1 | fairbanks\n",
      "Processing Record 114 of Set 1 | palanpur\n",
      "Processing Record 115 of Set 1 | coquimbo\n",
      "Processing Record 116 of Set 1 | esperance\n",
      "Processing Record 117 of Set 1 | fernie\n",
      "Processing Record 118 of Set 1 | celestun\n",
      "Processing Record 119 of Set 1 | saint-pierre\n",
      "Processing Record 120 of Set 1 | bluff\n",
      "Processing Record 121 of Set 1 | ahipara\n",
      "Processing Record 122 of Set 1 | kuhdasht\n",
      "Processing Record 123 of Set 1 | puerto ayora\n",
      "Processing Record 124 of Set 1 | hofn\n",
      "Processing Record 125 of Set 1 | ponta do sol\n",
      "Processing Record 126 of Set 1 | vila velha\n",
      "Processing Record 127 of Set 1 | cayenne\n",
      "Processing Record 128 of Set 1 | busselton\n",
      "Processing Record 129 of Set 1 | chuy\n",
      "Processing Record 130 of Set 1 | kirakira\n",
      "Processing Record 131 of Set 1 | havelock\n",
      "Processing Record 132 of Set 1 | verkhoshizhemye\n",
      "Processing Record 133 of Set 1 | uaua\n",
      "Processing Record 134 of Set 1 | bend\n",
      "Processing Record 135 of Set 1 | hasaki\n",
      "Processing Record 136 of Set 1 | sal rei\n",
      "Processing Record 137 of Set 1 | yuci\n",
      "Processing Record 138 of Set 1 | bhadrachalam\n",
      "Processing Record 139 of Set 1 | broken hill\n",
      "Processing Record 140 of Set 1 | asau\n",
      "Processing Record 141 of Set 1 | sahuaripa\n",
      "Processing Record 142 of Set 1 | okhotsk\n",
      "Processing Record 143 of Set 1 | saucillo\n",
      "Processing Record 144 of Set 1 | zhanakorgan\n",
      "City not found. Skipping...\n",
      "Processing Record 145 of Set 1 | taolanaro\n",
      "Processing Record 146 of Set 1 | cherskiy\n",
      "Processing Record 147 of Set 1 | sao jose da coroa grande\n",
      "Processing Record 148 of Set 1 | boa vista\n",
      "Processing Record 149 of Set 1 | lano\n",
      "Processing Record 150 of Set 1 | komyshnya\n",
      "Processing Record 151 of Set 1 | mana\n",
      "Processing Record 152 of Set 1 | waitati\n",
      "Processing Record 153 of Set 1 | lannion\n",
      "Processing Record 154 of Set 1 | port elizabeth\n",
      "Processing Record 155 of Set 1 | normandin\n",
      "Processing Record 156 of Set 1 | tasiilaq\n",
      "Processing Record 157 of Set 1 | ribeira grande\n",
      "Processing Record 158 of Set 1 | vestmannaeyjar\n",
      "Processing Record 159 of Set 1 | sobolevo\n",
      "Processing Record 160 of Set 1 | itarema\n",
      "Processing Record 161 of Set 1 | albany\n",
      "Processing Record 162 of Set 1 | atar\n",
      "Processing Record 163 of Set 1 | solnechnyy\n",
      "Processing Record 164 of Set 1 | nanortalik\n",
      "Processing Record 165 of Set 1 | sisimiut\n",
      "Processing Record 166 of Set 1 | saskylakh\n",
      "Processing Record 167 of Set 1 | urumqi\n",
      "Processing Record 168 of Set 1 | iqaluit\n",
      "Processing Record 169 of Set 1 | novoagansk\n",
      "Processing Record 170 of Set 1 | saint-philippe\n",
      "Processing Record 171 of Set 1 | dawson creek\n",
      "Processing Record 172 of Set 1 | beni\n",
      "Processing Record 173 of Set 1 | assare\n",
      "Processing Record 174 of Set 1 | spencer\n",
      "Processing Record 175 of Set 1 | westport\n",
      "Processing Record 176 of Set 1 | prainha\n",
      "Processing Record 177 of Set 1 | mogocha\n",
      "Processing Record 178 of Set 1 | tianpeng\n",
      "Processing Record 179 of Set 1 | port lincoln\n",
      "Processing Record 180 of Set 1 | boyabat\n",
      "Processing Record 181 of Set 1 | dalbandin\n",
      "Processing Record 182 of Set 1 | rabat\n",
      "Processing Record 183 of Set 1 | puksoozero\n",
      "Processing Record 184 of Set 1 | steinbach\n",
      "Processing Record 185 of Set 1 | hovd\n",
      "Processing Record 186 of Set 1 | la ronge\n",
      "Processing Record 187 of Set 1 | ormara\n",
      "Processing Record 188 of Set 1 | east london\n"
     ]
    },
    {
     "name": "stdout",
     "output_type": "stream",
     "text": [
      "Processing Record 189 of Set 1 | codrington\n",
      "Processing Record 190 of Set 1 | olafsvik\n",
      "Processing Record 191 of Set 1 | upernavik\n",
      "Processing Record 192 of Set 1 | krasnoselkup\n",
      "Processing Record 193 of Set 1 | vysokogornyy\n",
      "Processing Record 194 of Set 1 | havre-saint-pierre\n",
      "Processing Record 195 of Set 1 | coihaique\n",
      "Processing Record 196 of Set 1 | mirpur sakro\n",
      "Processing Record 197 of Set 1 | kavieng\n",
      "Processing Record 198 of Set 1 | barinas\n",
      "City not found. Skipping...\n",
      "Processing Record 199 of Set 1 | tsihombe\n",
      "Processing Record 200 of Set 1 | provideniya\n",
      "City not found. Skipping...\n",
      "Processing Record 201 of Set 1 | karamea\n",
      "City not found. Skipping...\n",
      "Processing Record 202 of Set 1 | bur gabo\n",
      "Processing Record 203 of Set 1 | huarmey\n",
      "Processing Record 204 of Set 1 | mayo\n",
      "Processing Record 205 of Set 1 | miri\n",
      "Processing Record 206 of Set 1 | ravar\n",
      "Processing Record 207 of Set 1 | sitka\n",
      "Processing Record 208 of Set 1 | lorengau\n",
      "Processing Record 209 of Set 1 | srednekolymsk\n",
      "Processing Record 210 of Set 1 | namibe\n",
      "Processing Record 211 of Set 1 | cabra\n",
      "Processing Record 212 of Set 1 | dafeng\n",
      "Processing Record 213 of Set 1 | flin flon\n",
      "Processing Record 214 of Set 1 | araripina\n",
      "Processing Record 215 of Set 1 | talnakh\n",
      "Processing Record 216 of Set 1 | guiyang\n",
      "Processing Record 217 of Set 1 | west wendover\n",
      "Processing Record 218 of Set 1 | lebu\n",
      "Processing Record 219 of Set 1 | leningradskiy\n",
      "Processing Record 220 of Set 1 | kamoke\n",
      "Processing Record 221 of Set 1 | gualeguaychu\n",
      "Processing Record 222 of Set 1 | pareora\n",
      "Processing Record 223 of Set 1 | taltal\n",
      "Processing Record 224 of Set 1 | caimito\n",
      "Processing Record 225 of Set 1 | magugu\n",
      "City not found. Skipping...\n",
      "Processing Record 226 of Set 1 | sentyabrskiy\n",
      "Processing Record 227 of Set 1 | san cristobal\n",
      "Processing Record 228 of Set 1 | nikolskoye\n",
      "Processing Record 229 of Set 1 | savona\n",
      "Processing Record 230 of Set 1 | kahului\n",
      "Processing Record 231 of Set 1 | babu\n",
      "Processing Record 232 of Set 1 | katsuura\n",
      "Processing Record 233 of Set 1 | nueva gerona\n",
      "Processing Record 234 of Set 1 | tiksi\n",
      "City not found. Skipping...\n",
      "Processing Record 235 of Set 1 | dipkarpaz\n",
      "Processing Record 236 of Set 1 | barrancabermeja\n",
      "Processing Record 237 of Set 1 | ayan\n",
      "City not found. Skipping...\n",
      "Processing Record 238 of Set 1 | khonuu\n",
      "Processing Record 239 of Set 1 | mount gambier\n",
      "Processing Record 240 of Set 1 | paamiut\n",
      "Processing Record 241 of Set 1 | praia da vitoria\n",
      "Processing Record 242 of Set 1 | laksham\n",
      "Processing Record 243 of Set 1 | castro\n",
      "Processing Record 244 of Set 1 | naze\n",
      "Processing Record 245 of Set 1 | rawson\n",
      "Processing Record 246 of Set 1 | prince albert\n",
      "Processing Record 247 of Set 1 | prado\n",
      "Processing Record 248 of Set 1 | brae\n",
      "Processing Record 249 of Set 1 | richards bay\n",
      "Processing Record 250 of Set 1 | kinshasa\n",
      "Processing Record 251 of Set 1 | wahiawa\n",
      "Processing Record 252 of Set 1 | vargashi\n",
      "Processing Record 253 of Set 1 | killybegs\n",
      "Processing Record 254 of Set 1 | dakar\n",
      "Processing Record 255 of Set 1 | ibra\n",
      "Processing Record 256 of Set 1 | bambous virieux\n",
      "City not found. Skipping...\n",
      "Processing Record 257 of Set 1 | toliary\n",
      "Processing Record 258 of Set 1 | taiyuan\n",
      "Processing Record 259 of Set 1 | half moon bay\n",
      "Processing Record 260 of Set 1 | lugoba\n",
      "Processing Record 261 of Set 1 | sola\n",
      "Processing Record 262 of Set 1 | dharchula\n",
      "Processing Record 263 of Set 1 | pokhara\n",
      "Processing Record 264 of Set 1 | burnie\n",
      "Processing Record 265 of Set 1 | college\n",
      "Processing Record 266 of Set 1 | salinas\n",
      "Processing Record 267 of Set 1 | tilichiki\n",
      "Processing Record 268 of Set 1 | lethem\n",
      "Processing Record 269 of Set 1 | erzin\n",
      "Processing Record 270 of Set 1 | san patricio\n",
      "Processing Record 271 of Set 1 | portland\n",
      "Processing Record 272 of Set 1 | zaysan\n",
      "City not found. Skipping...\n",
      "Processing Record 273 of Set 1 | attawapiskat\n",
      "Processing Record 274 of Set 1 | russellville\n",
      "Processing Record 275 of Set 1 | kamenka\n",
      "Processing Record 276 of Set 1 | guerrero negro\n",
      "Processing Record 277 of Set 1 | kahuta\n",
      "Processing Record 278 of Set 1 | klaksvik\n",
      "Processing Record 279 of Set 1 | yako\n",
      "Processing Record 280 of Set 1 | saint george\n",
      "City not found. Skipping...\n",
      "Processing Record 281 of Set 1 | papasquiaro\n",
      "Processing Record 282 of Set 1 | lloydminster\n",
      "Processing Record 283 of Set 1 | deputatskiy\n",
      "Processing Record 284 of Set 1 | ulaangom\n",
      "Processing Record 285 of Set 1 | inhambane\n",
      "Processing Record 286 of Set 1 | rincon\n",
      "Processing Record 287 of Set 1 | sioux lookout\n",
      "Processing Record 288 of Set 1 | matay\n",
      "Processing Record 289 of Set 1 | yar-sale\n",
      "Processing Record 290 of Set 1 | port hedland\n",
      "Processing Record 291 of Set 1 | duluth\n",
      "Processing Record 292 of Set 1 | gigmoto\n",
      "Processing Record 293 of Set 1 | belaya gora\n",
      "Processing Record 294 of Set 1 | honningsvag\n",
      "Processing Record 295 of Set 1 | kabul\n",
      "Processing Record 296 of Set 1 | chapleau\n",
      "Processing Record 297 of Set 1 | kapoeta\n",
      "Processing Record 298 of Set 1 | zhenlai\n",
      "Processing Record 299 of Set 1 | mafinga\n",
      "Processing Record 300 of Set 1 | vila franca do campo\n",
      "Processing Record 301 of Set 1 | pimentel\n",
      "Processing Record 302 of Set 1 | geraldton\n",
      "Processing Record 303 of Set 1 | clyde river\n",
      "Processing Record 304 of Set 1 | airai\n",
      "Processing Record 305 of Set 1 | rawah\n",
      "Processing Record 306 of Set 1 | aitape\n",
      "Processing Record 307 of Set 1 | sao filipe\n",
      "Processing Record 308 of Set 1 | yei\n",
      "Processing Record 309 of Set 1 | balaipungut\n",
      "Processing Record 310 of Set 1 | coffs harbour\n",
      "Processing Record 311 of Set 1 | taywarah\n",
      "Processing Record 312 of Set 1 | wamba\n",
      "Processing Record 313 of Set 1 | balykshi\n",
      "Processing Record 314 of Set 1 | faya\n",
      "Processing Record 315 of Set 1 | taoudenni\n",
      "Processing Record 316 of Set 1 | aykhal\n",
      "Processing Record 317 of Set 1 | santa maria\n",
      "Processing Record 318 of Set 1 | marshall\n",
      "Processing Record 319 of Set 1 | cockburn town\n",
      "Processing Record 320 of Set 1 | yiyang\n",
      "Processing Record 321 of Set 1 | kontagora\n",
      "Processing Record 322 of Set 1 | udankudi\n",
      "Processing Record 323 of Set 1 | gornyy\n",
      "Processing Record 324 of Set 1 | mitsamiouli\n",
      "Processing Record 325 of Set 1 | gazli\n",
      "Processing Record 326 of Set 1 | jackson\n",
      "Processing Record 327 of Set 1 | walvis bay\n",
      "Processing Record 328 of Set 1 | angola\n",
      "Processing Record 329 of Set 1 | santa cruz\n",
      "Processing Record 330 of Set 1 | tulagi\n",
      "Processing Record 331 of Set 1 | yaqui\n",
      "Processing Record 332 of Set 1 | ballina\n",
      "Processing Record 333 of Set 1 | ashta\n",
      "Processing Record 334 of Set 1 | foam lake\n",
      "Processing Record 335 of Set 1 | yerbogachen\n",
      "Processing Record 336 of Set 1 | sringeri\n",
      "Processing Record 337 of Set 1 | luderitz\n",
      "Processing Record 338 of Set 1 | maraba\n",
      "Processing Record 339 of Set 1 | bonfim\n",
      "Processing Record 340 of Set 1 | ankara\n",
      "Processing Record 341 of Set 1 | bubaque\n",
      "Processing Record 342 of Set 1 | waingapu\n",
      "City not found. Skipping...\n",
      "Processing Record 343 of Set 1 | samusu\n",
      "Processing Record 344 of Set 1 | roros\n",
      "Processing Record 345 of Set 1 | cascais\n",
      "Processing Record 346 of Set 1 | beloha\n",
      "City not found. Skipping...\n",
      "Processing Record 347 of Set 1 | amderma\n",
      "Processing Record 348 of Set 1 | sayanogorsk\n",
      "Processing Record 349 of Set 1 | victor harbor\n",
      "Processing Record 350 of Set 1 | kavaratti\n",
      "City not found. Skipping...\n",
      "Processing Record 351 of Set 1 | tabiauea\n",
      "Processing Record 352 of Set 1 | jalu\n",
      "Processing Record 353 of Set 1 | aboisso\n",
      "Processing Record 354 of Set 1 | ust-tsilma\n",
      "Processing Record 355 of Set 1 | dingle\n",
      "Processing Record 356 of Set 1 | nome\n",
      "Processing Record 357 of Set 1 | burgeo\n",
      "Processing Record 358 of Set 1 | lasa\n",
      "Processing Record 359 of Set 1 | broome\n",
      "Processing Record 360 of Set 1 | lebanon\n",
      "Processing Record 361 of Set 1 | manta\n",
      "Processing Record 362 of Set 1 | hambantota\n",
      "Processing Record 363 of Set 1 | rovaniemi\n",
      "Processing Record 364 of Set 1 | chenghai\n",
      "Processing Record 365 of Set 1 | posse\n",
      "Processing Record 366 of Set 1 | rocha\n",
      "Processing Record 367 of Set 1 | baie-comeau\n",
      "Processing Record 368 of Set 1 | hay river\n",
      "Processing Record 369 of Set 1 | yulara\n",
      "Processing Record 370 of Set 1 | puerto del rosario\n",
      "Processing Record 371 of Set 1 | novikovo\n",
      "Processing Record 372 of Set 1 | fortuna\n",
      "Processing Record 373 of Set 1 | marienburg\n",
      "Processing Record 374 of Set 1 | jishou\n",
      "Processing Record 375 of Set 1 | natal\n"
     ]
    },
    {
     "name": "stdout",
     "output_type": "stream",
     "text": [
      "Processing Record 376 of Set 1 | colares\n",
      "Processing Record 377 of Set 1 | impfondo\n",
      "Processing Record 378 of Set 1 | tura\n",
      "Processing Record 379 of Set 1 | te anau\n",
      "Processing Record 380 of Set 1 | serenje\n",
      "Processing Record 381 of Set 1 | la rioja\n",
      "Processing Record 382 of Set 1 | necochea\n",
      "Processing Record 383 of Set 1 | palembang\n",
      "Processing Record 384 of Set 1 | athabasca\n",
      "Processing Record 385 of Set 1 | bandarbeyla\n",
      "Processing Record 386 of Set 1 | berberati\n",
      "Processing Record 387 of Set 1 | kiama\n",
      "Processing Record 388 of Set 1 | grand gaube\n",
      "Processing Record 389 of Set 1 | tahta\n",
      "Processing Record 390 of Set 1 | ancud\n",
      "Processing Record 391 of Set 1 | acarau\n",
      "City not found. Skipping...\n",
      "Processing Record 392 of Set 1 | formoso do araguaia\n",
      "City not found. Skipping...\n",
      "Processing Record 393 of Set 1 | umm durman\n",
      "Processing Record 394 of Set 1 | kununurra\n",
      "Processing Record 395 of Set 1 | pevek\n",
      "City not found. Skipping...\n",
      "Processing Record 396 of Set 1 | grand river south east\n",
      "Processing Record 397 of Set 1 | sarkand\n",
      "Processing Record 398 of Set 1 | ronneby\n",
      "Processing Record 399 of Set 1 | yarada\n",
      "Processing Record 400 of Set 1 | parker\n",
      "Processing Record 401 of Set 1 | zhigansk\n",
      "Processing Record 402 of Set 1 | monywa\n",
      "Processing Record 403 of Set 1 | ilulissat\n",
      "Processing Record 404 of Set 1 | zhob\n",
      "Processing Record 405 of Set 1 | cedar city\n",
      "Processing Record 406 of Set 1 | dukat\n",
      "Processing Record 407 of Set 1 | nalut\n",
      "Processing Record 408 of Set 1 | praia\n",
      "Processing Record 409 of Set 1 | kapuskasing\n",
      "Processing Record 410 of Set 1 | kruisfontein\n",
      "Processing Record 411 of Set 1 | dalnerechensk\n",
      "Processing Record 412 of Set 1 | adrar\n",
      "Processing Record 413 of Set 1 | fushun\n",
      "Processing Record 414 of Set 1 | chirongui\n",
      "Processing Record 415 of Set 1 | lufilufi\n",
      "Processing Record 416 of Set 1 | sulangan\n",
      "Processing Record 417 of Set 1 | dubai\n",
      "Processing Record 418 of Set 1 | karasjok\n",
      "Processing Record 419 of Set 1 | samana\n",
      "Processing Record 420 of Set 1 | kropotkin\n",
      "Processing Record 421 of Set 1 | degtyarsk\n",
      "Processing Record 422 of Set 1 | toamasina\n",
      "Processing Record 423 of Set 1 | mahibadhoo\n",
      "City not found. Skipping...\n",
      "Processing Record 424 of Set 1 | ruatoria\n",
      "Processing Record 425 of Set 1 | linxia\n",
      "Processing Record 426 of Set 1 | cururupu\n",
      "Processing Record 427 of Set 1 | canutama\n",
      "Processing Record 428 of Set 1 | oranjestad\n",
      "Processing Record 429 of Set 1 | shimoda\n",
      "Processing Record 430 of Set 1 | tambovka\n",
      "City not found. Skipping...\n",
      "Processing Record 431 of Set 1 | mocambique\n",
      "Processing Record 432 of Set 1 | santa isabel do rio negro\n",
      "Processing Record 433 of Set 1 | izazi\n",
      "Processing Record 434 of Set 1 | ternate\n",
      "City not found. Skipping...\n",
      "Processing Record 435 of Set 1 | chagda\n",
      "Processing Record 436 of Set 1 | vlcnov\n",
      "Processing Record 437 of Set 1 | iquitos\n",
      "City not found. Skipping...\n",
      "Processing Record 438 of Set 1 | shkotovo-26\n",
      "Processing Record 439 of Set 1 | biak\n",
      "Processing Record 440 of Set 1 | dhidhdhoo\n",
      "Processing Record 441 of Set 1 | marawi\n",
      "City not found. Skipping...\n",
      "Processing Record 442 of Set 1 | samalaeulu\n",
      "Processing Record 443 of Set 1 | bilma\n",
      "Processing Record 444 of Set 1 | inirida\n",
      "Processing Record 445 of Set 1 | malatya\n",
      "Processing Record 446 of Set 1 | kachiry\n",
      "Processing Record 447 of Set 1 | wakkanai\n",
      "Processing Record 448 of Set 1 | elat\n",
      "City not found. Skipping...\n",
      "Processing Record 449 of Set 1 | rungata\n",
      "Processing Record 450 of Set 1 | siavonga\n",
      "Processing Record 451 of Set 1 | dudinka\n",
      "Processing Record 452 of Set 1 | kerman\n",
      "City not found. Skipping...\n",
      "Processing Record 453 of Set 1 | dien bien\n",
      "Processing Record 454 of Set 1 | vagur\n",
      "Processing Record 455 of Set 1 | kushima\n",
      "Processing Record 456 of Set 1 | pangnirtung\n",
      "Processing Record 457 of Set 1 | guantanamo\n",
      "Processing Record 458 of Set 1 | opelousas\n",
      "Processing Record 459 of Set 1 | bereznik\n",
      "Processing Record 460 of Set 1 | khasan\n",
      "Processing Record 461 of Set 1 | mabaruma\n",
      "Processing Record 462 of Set 1 | kaa-khem\n",
      "Processing Record 463 of Set 1 | punalur\n",
      "Processing Record 464 of Set 1 | bud\n",
      "Processing Record 465 of Set 1 | makakilo city\n",
      "Processing Record 466 of Set 1 | teknaf\n",
      "Processing Record 467 of Set 1 | souillac\n",
      "Processing Record 468 of Set 1 | lagoa\n",
      "City not found. Skipping...\n",
      "Processing Record 469 of Set 1 | karaul\n",
      "Processing Record 470 of Set 1 | guymon\n",
      "Processing Record 471 of Set 1 | sept-iles\n",
      "Processing Record 472 of Set 1 | mehran\n",
      "Processing Record 473 of Set 1 | labuhan\n",
      "Processing Record 474 of Set 1 | caraquet\n",
      "Processing Record 475 of Set 1 | olga\n",
      "Processing Record 476 of Set 1 | teguldet\n",
      "Processing Record 477 of Set 1 | kapustin yar\n",
      "Processing Record 478 of Set 1 | svetlyy\n",
      "Processing Record 479 of Set 1 | port hardy\n",
      "Processing Record 480 of Set 1 | constitucion\n",
      "Processing Record 481 of Set 1 | high level\n",
      "Processing Record 482 of Set 1 | fort nelson\n",
      "Processing Record 483 of Set 1 | margate\n",
      "Processing Record 484 of Set 1 | honiara\n",
      "Processing Record 485 of Set 1 | padang\n",
      "Processing Record 486 of Set 1 | ziro\n",
      "City not found. Skipping...\n",
      "Processing Record 487 of Set 1 | tawnat\n",
      "Processing Record 488 of Set 1 | onega\n",
      "Processing Record 489 of Set 1 | yavas\n",
      "City not found. Skipping...\n",
      "Processing Record 490 of Set 1 | riaba\n",
      "Processing Record 491 of Set 1 | doctor juan leon mallorquin\n",
      "Processing Record 492 of Set 1 | ust-omchug\n",
      "City not found. Skipping...\n",
      "Processing Record 493 of Set 1 | bacuit\n",
      "Processing Record 494 of Set 1 | novorudnyy\n",
      "Processing Record 495 of Set 1 | polyarnyy\n",
      "City not found. Skipping...\n",
      "Processing Record 496 of Set 1 | marcona\n",
      "Processing Record 497 of Set 1 | altamont\n",
      "Processing Record 498 of Set 1 | sovetskiy\n",
      "Processing Record 499 of Set 1 | tadine\n",
      "Processing Record 500 of Set 1 | melhus\n",
      "Processing Record 501 of Set 1 | nerchinskiy zavod\n",
      "City not found. Skipping...\n",
      "Processing Record 502 of Set 1 | warqla\n",
      "Processing Record 503 of Set 1 | karratha\n",
      "Processing Record 504 of Set 1 | wajir\n",
      "Processing Record 505 of Set 1 | haapiti\n",
      "Processing Record 506 of Set 1 | novorzhev\n",
      "Processing Record 507 of Set 1 | sao joao da barra\n",
      "Processing Record 508 of Set 1 | burgos\n",
      "City not found. Skipping...\n",
      "Processing Record 509 of Set 1 | ondorhaan\n",
      "Processing Record 510 of Set 1 | flinders\n",
      "Processing Record 511 of Set 1 | ola\n",
      "Processing Record 512 of Set 1 | dandong\n",
      "Processing Record 513 of Set 1 | haines junction\n",
      "Processing Record 514 of Set 1 | mogadouro\n",
      "Processing Record 515 of Set 1 | shasta lake\n",
      "Processing Record 516 of Set 1 | woodstock\n",
      "Processing Record 517 of Set 1 | vikulovo\n",
      "Processing Record 518 of Set 1 | kapit\n",
      "Processing Record 519 of Set 1 | cotacachi\n",
      "Processing Record 520 of Set 1 | costa rica\n",
      "Processing Record 521 of Set 1 | yumen\n",
      "Processing Record 522 of Set 1 | usinsk\n",
      "Processing Record 523 of Set 1 | laguna\n",
      "Processing Record 524 of Set 1 | campos belos\n",
      "City not found. Skipping...\n",
      "Processing Record 525 of Set 1 | palabuhanratu\n",
      "Processing Record 526 of Set 1 | hopewell\n",
      "Processing Record 527 of Set 1 | rosetta\n",
      "Processing Record 528 of Set 1 | zyryanovsk\n",
      "Processing Record 529 of Set 1 | hirado\n",
      "Processing Record 530 of Set 1 | katangli\n",
      "Processing Record 531 of Set 1 | calvinia\n",
      "Processing Record 532 of Set 1 | zadar\n",
      "Processing Record 533 of Set 1 | henties bay\n",
      "Processing Record 534 of Set 1 | lambarene\n",
      "Processing Record 535 of Set 1 | palmer\n",
      "Processing Record 536 of Set 1 | bulungu\n",
      "Processing Record 537 of Set 1 | saldanha\n",
      "Processing Record 538 of Set 1 | rio grande\n",
      "Processing Record 539 of Set 1 | san antonio\n",
      "Processing Record 540 of Set 1 | cap-aux-meules\n",
      "Processing Record 541 of Set 1 | maceio\n",
      "Processing Record 542 of Set 1 | matagami\n",
      "Processing Record 543 of Set 1 | sao miguel do araguaia\n",
      "Processing Record 544 of Set 1 | capinzal\n",
      "Processing Record 545 of Set 1 | igboho\n",
      "Processing Record 546 of Set 1 | zhezkazgan\n",
      "Processing Record 547 of Set 1 | wajima\n",
      "Processing Record 548 of Set 1 | dalnegorsk\n",
      "City not found. Skipping...\n",
      "Processing Record 549 of Set 1 | yirol\n",
      "Processing Record 550 of Set 1 | sakakah\n",
      "Processing Record 551 of Set 1 | labuan\n",
      "Processing Record 552 of Set 1 | shache\n",
      "Processing Record 553 of Set 1 | port macquarie\n",
      "Processing Record 554 of Set 1 | bonavista\n",
      "Processing Record 555 of Set 1 | iskateley\n",
      "Processing Record 556 of Set 1 | mahajanga\n",
      "Processing Record 557 of Set 1 | alofi\n"
     ]
    },
    {
     "name": "stdout",
     "output_type": "stream",
     "text": [
      "Processing Record 558 of Set 1 | epe\n",
      "Processing Record 559 of Set 1 | catamarca\n",
      "Processing Record 560 of Set 1 | ampanihy\n",
      "City not found. Skipping...\n",
      "Processing Record 561 of Set 1 | jiddah\n",
      "Processing Record 562 of Set 1 | whyalla\n",
      "Processing Record 563 of Set 1 | paracatu\n",
      "City not found. Skipping...\n",
      "Processing Record 564 of Set 1 | mutsamudu\n",
      "Processing Record 565 of Set 1 | ambilobe\n",
      "Processing Record 566 of Set 1 | abu dhabi\n",
      "Processing Record 567 of Set 1 | kerema\n",
      "Processing Record 568 of Set 1 | ilo\n",
      "Processing Record 569 of Set 1 | le port\n",
      "City not found. Skipping...\n",
      "Processing Record 570 of Set 1 | satitoa\n",
      "Processing Record 571 of Set 1 | saint-paul\n",
      "Processing Record 572 of Set 1 | natitingou\n",
      "Processing Record 573 of Set 1 | fare\n",
      "Processing Record 574 of Set 1 | gibgos\n",
      "Processing Record 575 of Set 1 | poum\n",
      "Processing Record 576 of Set 1 | altay\n",
      "Processing Record 577 of Set 1 | barra do garcas\n",
      "City not found. Skipping...\n",
      "Processing Record 578 of Set 1 | vaitupu\n",
      "Processing Record 579 of Set 1 | saint-augustin\n",
      "Processing Record 580 of Set 1 | farafangana\n",
      "Processing Record 581 of Set 1 | pacific grove\n",
      "Processing Record 582 of Set 1 | riviere-au-renard\n",
      "Processing Record 583 of Set 1 | lantawan\n",
      "Processing Record 584 of Set 1 | berezovyy\n",
      "Processing Record 585 of Set 1 | lalmohan\n",
      "Processing Record 586 of Set 1 | aketi\n",
      "Processing Record 587 of Set 1 | strezhevoy\n",
      "Processing Record 588 of Set 1 | la motte-servolex\n",
      "Processing Record 589 of Set 1 | corsicana\n",
      "Processing Record 590 of Set 1 | aksarka\n",
      "City not found. Skipping...\n",
      "Processing Record 591 of Set 1 | inderborskiy\n",
      "Processing Record 592 of Set 1 | rafraf\n",
      "Processing Record 593 of Set 1 | varhaug\n",
      "Processing Record 594 of Set 1 | nioro\n",
      "Processing Record 595 of Set 1 | tortoli\n",
      "Processing Record 596 of Set 1 | naron\n",
      "Processing Record 597 of Set 1 | san luis\n",
      "Processing Record 598 of Set 1 | salekhard\n",
      "Processing Record 599 of Set 1 | sar-e pul\n",
      "Processing Record 600 of Set 1 | bakel\n",
      "-----------------------------\n",
      "Data Retrieval Complete\n",
      "-----------------------------\n"
     ]
    }
   ],
   "source": [
    "base_url = \"http://api.openweathermap.org/data/2.5/weather?\"\n",
    "\n",
    "print(\"Beginning Data Retrieval\")\n",
    "print(\"-----------------------------\")\n",
    "\n",
    "# Loop to call the weather api using a list of cities\n",
    "for count, city_name in enumerate(cities, start=1):\n",
    "    query_params = f\"q={city_name}&appid={weather_api_key}&units=imperial\"\n",
    "    response = requests.get(base_url + query_params).json()\n",
    "    \n",
    "    if (response[\"cod\"]==\"404\"):\n",
    "        print(\"City not found. Skipping...\")\n",
    "    else    :\n",
    "        new_cities.append(city_name)\n",
    "        lat.append(response['coord']['lat'])\n",
    "        lng.append(response['coord']['lon'])\n",
    "        max_temp.append(response['main']['temp_max'])\n",
    "        humidity.append(response['main']['humidity'])\n",
    "        cloudiness.append(response['clouds']['all'])\n",
    "        wind_speed.append(response['wind']['speed'])\n",
    "        country.append(response['sys']['country'])\n",
    "        date.append(response['dt'])\n",
    "\n",
    "    print(f\"Processing Record {count} of Set 1 | {city_name}\")\n",
    "        \n",
    "print(\"-----------------------------\")\n",
    "print(\"Data Retrieval Complete\")\n",
    "print(\"-----------------------------\")"
   ]
  },
  {
   "cell_type": "markdown",
   "metadata": {},
   "source": [
    "### Convert Raw Data to DataFrame\n",
    "* Export the city data into a .csv.\n",
    "* Display the DataFrame"
   ]
  },
  {
   "cell_type": "code",
   "execution_count": 5,
   "metadata": {},
   "outputs": [],
   "source": [
    "city_dict = {\n",
    "    \"City\" : new_cities,\n",
    "    \"Lat\": lat,\n",
    "    \"Lng\": lng,\n",
    "    \"Max Temp\": max_temp,\n",
    "    \"Humidity\": humidity,\n",
    "    \"Cloudiness\": cloudiness,\n",
    "    \"Wind Speed\": wind_speed,\n",
    "    \"Country\": country,\n",
    "    \"Date\": date\n",
    "}\n",
    "\n",
    "city_dict\n",
    "\n",
    "city_data = pd.DataFrame(city_dict)\n"
   ]
  },
  {
   "cell_type": "code",
   "execution_count": 6,
   "metadata": {},
   "outputs": [
    {
     "data": {
      "text/plain": [
       "553"
      ]
     },
     "execution_count": 6,
     "metadata": {},
     "output_type": "execute_result"
    }
   ],
   "source": [
    "len(city_data)"
   ]
  },
  {
   "cell_type": "code",
   "execution_count": 7,
   "metadata": {},
   "outputs": [],
   "source": [
    "# Export the city data into a .csv\n",
    "city_data.to_csv(output_data_file)"
   ]
  },
  {
   "cell_type": "code",
   "execution_count": 8,
   "metadata": {},
   "outputs": [
    {
     "data": {
      "text/html": [
       "<div>\n",
       "<style scoped>\n",
       "    .dataframe tbody tr th:only-of-type {\n",
       "        vertical-align: middle;\n",
       "    }\n",
       "\n",
       "    .dataframe tbody tr th {\n",
       "        vertical-align: top;\n",
       "    }\n",
       "\n",
       "    .dataframe thead th {\n",
       "        text-align: right;\n",
       "    }\n",
       "</style>\n",
       "<table border=\"1\" class=\"dataframe\">\n",
       "  <thead>\n",
       "    <tr style=\"text-align: right;\">\n",
       "      <th></th>\n",
       "      <th>City</th>\n",
       "      <th>Lat</th>\n",
       "      <th>Lng</th>\n",
       "      <th>Max Temp</th>\n",
       "      <th>Humidity</th>\n",
       "      <th>Cloudiness</th>\n",
       "      <th>Wind Speed</th>\n",
       "      <th>Country</th>\n",
       "      <th>Date</th>\n",
       "    </tr>\n",
       "  </thead>\n",
       "  <tbody>\n",
       "    <tr>\n",
       "      <th>0</th>\n",
       "      <td>kaitangata</td>\n",
       "      <td>-46.2817</td>\n",
       "      <td>169.8464</td>\n",
       "      <td>55.00</td>\n",
       "      <td>76</td>\n",
       "      <td>100</td>\n",
       "      <td>13.00</td>\n",
       "      <td>NZ</td>\n",
       "      <td>1619728647</td>\n",
       "    </tr>\n",
       "    <tr>\n",
       "      <th>1</th>\n",
       "      <td>rikitea</td>\n",
       "      <td>-23.1203</td>\n",
       "      <td>-134.9692</td>\n",
       "      <td>76.48</td>\n",
       "      <td>68</td>\n",
       "      <td>99</td>\n",
       "      <td>10.13</td>\n",
       "      <td>PF</td>\n",
       "      <td>1619728648</td>\n",
       "    </tr>\n",
       "    <tr>\n",
       "      <th>2</th>\n",
       "      <td>hilo</td>\n",
       "      <td>19.7297</td>\n",
       "      <td>-155.0900</td>\n",
       "      <td>80.60</td>\n",
       "      <td>57</td>\n",
       "      <td>20</td>\n",
       "      <td>3.44</td>\n",
       "      <td>US</td>\n",
       "      <td>1619728381</td>\n",
       "    </tr>\n",
       "    <tr>\n",
       "      <th>3</th>\n",
       "      <td>hermanus</td>\n",
       "      <td>-34.4187</td>\n",
       "      <td>19.2345</td>\n",
       "      <td>55.99</td>\n",
       "      <td>74</td>\n",
       "      <td>80</td>\n",
       "      <td>3.00</td>\n",
       "      <td>ZA</td>\n",
       "      <td>1619728648</td>\n",
       "    </tr>\n",
       "    <tr>\n",
       "      <th>4</th>\n",
       "      <td>ushuaia</td>\n",
       "      <td>-54.8000</td>\n",
       "      <td>-68.3000</td>\n",
       "      <td>42.80</td>\n",
       "      <td>56</td>\n",
       "      <td>20</td>\n",
       "      <td>5.75</td>\n",
       "      <td>AR</td>\n",
       "      <td>1619728650</td>\n",
       "    </tr>\n",
       "  </tbody>\n",
       "</table>\n",
       "</div>"
      ],
      "text/plain": [
       "         City      Lat       Lng  Max Temp  Humidity  Cloudiness  Wind Speed  \\\n",
       "0  kaitangata -46.2817  169.8464     55.00        76         100       13.00   \n",
       "1     rikitea -23.1203 -134.9692     76.48        68          99       10.13   \n",
       "2        hilo  19.7297 -155.0900     80.60        57          20        3.44   \n",
       "3    hermanus -34.4187   19.2345     55.99        74          80        3.00   \n",
       "4     ushuaia -54.8000  -68.3000     42.80        56          20        5.75   \n",
       "\n",
       "  Country        Date  \n",
       "0      NZ  1619728647  \n",
       "1      PF  1619728648  \n",
       "2      US  1619728381  \n",
       "3      ZA  1619728648  \n",
       "4      AR  1619728650  "
      ]
     },
     "execution_count": 8,
     "metadata": {},
     "output_type": "execute_result"
    }
   ],
   "source": [
    "# Diplay the DataFrame\n",
    "city_data.head()"
   ]
  },
  {
   "cell_type": "code",
   "execution_count": 9,
   "metadata": {},
   "outputs": [
    {
     "data": {
      "text/html": [
       "<div>\n",
       "<style scoped>\n",
       "    .dataframe tbody tr th:only-of-type {\n",
       "        vertical-align: middle;\n",
       "    }\n",
       "\n",
       "    .dataframe tbody tr th {\n",
       "        vertical-align: top;\n",
       "    }\n",
       "\n",
       "    .dataframe thead th {\n",
       "        text-align: right;\n",
       "    }\n",
       "</style>\n",
       "<table border=\"1\" class=\"dataframe\">\n",
       "  <thead>\n",
       "    <tr style=\"text-align: right;\">\n",
       "      <th></th>\n",
       "      <th>Lat</th>\n",
       "      <th>Lng</th>\n",
       "      <th>Max Temp</th>\n",
       "      <th>Humidity</th>\n",
       "      <th>Cloudiness</th>\n",
       "      <th>Wind Speed</th>\n",
       "      <th>Date</th>\n",
       "    </tr>\n",
       "  </thead>\n",
       "  <tbody>\n",
       "    <tr>\n",
       "      <th>count</th>\n",
       "      <td>553.000000</td>\n",
       "      <td>553.000000</td>\n",
       "      <td>553.000000</td>\n",
       "      <td>553.000000</td>\n",
       "      <td>553.000000</td>\n",
       "      <td>553.000000</td>\n",
       "      <td>5.530000e+02</td>\n",
       "    </tr>\n",
       "    <tr>\n",
       "      <th>mean</th>\n",
       "      <td>21.524214</td>\n",
       "      <td>15.813203</td>\n",
       "      <td>61.858517</td>\n",
       "      <td>68.972875</td>\n",
       "      <td>54.954792</td>\n",
       "      <td>7.394629</td>\n",
       "      <td>1.619729e+09</td>\n",
       "    </tr>\n",
       "    <tr>\n",
       "      <th>std</th>\n",
       "      <td>32.802565</td>\n",
       "      <td>90.788058</td>\n",
       "      <td>18.850362</td>\n",
       "      <td>22.845360</td>\n",
       "      <td>39.267613</td>\n",
       "      <td>4.702585</td>\n",
       "      <td>9.750641e+01</td>\n",
       "    </tr>\n",
       "    <tr>\n",
       "      <th>min</th>\n",
       "      <td>-54.800000</td>\n",
       "      <td>-179.166700</td>\n",
       "      <td>-2.130000</td>\n",
       "      <td>1.000000</td>\n",
       "      <td>0.000000</td>\n",
       "      <td>0.450000</td>\n",
       "      <td>1.619728e+09</td>\n",
       "    </tr>\n",
       "    <tr>\n",
       "      <th>25%</th>\n",
       "      <td>-5.198900</td>\n",
       "      <td>-64.383100</td>\n",
       "      <td>47.620000</td>\n",
       "      <td>56.000000</td>\n",
       "      <td>14.000000</td>\n",
       "      <td>3.620000</td>\n",
       "      <td>1.619729e+09</td>\n",
       "    </tr>\n",
       "    <tr>\n",
       "      <th>50%</th>\n",
       "      <td>28.366700</td>\n",
       "      <td>21.548200</td>\n",
       "      <td>64.720000</td>\n",
       "      <td>74.000000</td>\n",
       "      <td>70.000000</td>\n",
       "      <td>6.310000</td>\n",
       "      <td>1.619729e+09</td>\n",
       "    </tr>\n",
       "    <tr>\n",
       "      <th>75%</th>\n",
       "      <td>48.833300</td>\n",
       "      <td>91.399700</td>\n",
       "      <td>77.470000</td>\n",
       "      <td>87.000000</td>\n",
       "      <td>93.000000</td>\n",
       "      <td>9.750000</td>\n",
       "      <td>1.619729e+09</td>\n",
       "    </tr>\n",
       "    <tr>\n",
       "      <th>max</th>\n",
       "      <td>78.218600</td>\n",
       "      <td>179.316700</td>\n",
       "      <td>100.710000</td>\n",
       "      <td>100.000000</td>\n",
       "      <td>100.000000</td>\n",
       "      <td>27.630000</td>\n",
       "      <td>1.619729e+09</td>\n",
       "    </tr>\n",
       "  </tbody>\n",
       "</table>\n",
       "</div>"
      ],
      "text/plain": [
       "              Lat         Lng    Max Temp    Humidity  Cloudiness  Wind Speed  \\\n",
       "count  553.000000  553.000000  553.000000  553.000000  553.000000  553.000000   \n",
       "mean    21.524214   15.813203   61.858517   68.972875   54.954792    7.394629   \n",
       "std     32.802565   90.788058   18.850362   22.845360   39.267613    4.702585   \n",
       "min    -54.800000 -179.166700   -2.130000    1.000000    0.000000    0.450000   \n",
       "25%     -5.198900  -64.383100   47.620000   56.000000   14.000000    3.620000   \n",
       "50%     28.366700   21.548200   64.720000   74.000000   70.000000    6.310000   \n",
       "75%     48.833300   91.399700   77.470000   87.000000   93.000000    9.750000   \n",
       "max     78.218600  179.316700  100.710000  100.000000  100.000000   27.630000   \n",
       "\n",
       "               Date  \n",
       "count  5.530000e+02  \n",
       "mean   1.619729e+09  \n",
       "std    9.750641e+01  \n",
       "min    1.619728e+09  \n",
       "25%    1.619729e+09  \n",
       "50%    1.619729e+09  \n",
       "75%    1.619729e+09  \n",
       "max    1.619729e+09  "
      ]
     },
     "execution_count": 9,
     "metadata": {},
     "output_type": "execute_result"
    }
   ],
   "source": [
    "city_data.describe()"
   ]
  },
  {
   "cell_type": "markdown",
   "metadata": {},
   "source": [
    "## Inspect the data and remove the cities where the humidity > 100%.\n",
    "----\n",
    "Skip this step if there are no cities that have humidity > 100%. "
   ]
  },
  {
   "cell_type": "code",
   "execution_count": 10,
   "metadata": {},
   "outputs": [
    {
     "data": {
      "text/plain": [
       "553"
      ]
     },
     "execution_count": 10,
     "metadata": {},
     "output_type": "execute_result"
    }
   ],
   "source": [
    "filtered_city_data = city_data.loc[city_data[\"Humidity\"]<=100,:]\n",
    "len(filtered_city_data)"
   ]
  },
  {
   "cell_type": "code",
   "execution_count": 11,
   "metadata": {},
   "outputs": [
    {
     "data": {
      "text/html": [
       "<div>\n",
       "<style scoped>\n",
       "    .dataframe tbody tr th:only-of-type {\n",
       "        vertical-align: middle;\n",
       "    }\n",
       "\n",
       "    .dataframe tbody tr th {\n",
       "        vertical-align: top;\n",
       "    }\n",
       "\n",
       "    .dataframe thead th {\n",
       "        text-align: right;\n",
       "    }\n",
       "</style>\n",
       "<table border=\"1\" class=\"dataframe\">\n",
       "  <thead>\n",
       "    <tr style=\"text-align: right;\">\n",
       "      <th></th>\n",
       "      <th>Lat</th>\n",
       "      <th>Lng</th>\n",
       "      <th>Max Temp</th>\n",
       "      <th>Humidity</th>\n",
       "      <th>Cloudiness</th>\n",
       "      <th>Wind Speed</th>\n",
       "      <th>Date</th>\n",
       "    </tr>\n",
       "  </thead>\n",
       "  <tbody>\n",
       "    <tr>\n",
       "      <th>count</th>\n",
       "      <td>553.000000</td>\n",
       "      <td>553.000000</td>\n",
       "      <td>553.000000</td>\n",
       "      <td>553.000000</td>\n",
       "      <td>553.000000</td>\n",
       "      <td>553.000000</td>\n",
       "      <td>5.530000e+02</td>\n",
       "    </tr>\n",
       "    <tr>\n",
       "      <th>mean</th>\n",
       "      <td>21.524214</td>\n",
       "      <td>15.813203</td>\n",
       "      <td>61.858517</td>\n",
       "      <td>68.972875</td>\n",
       "      <td>54.954792</td>\n",
       "      <td>7.394629</td>\n",
       "      <td>1.619729e+09</td>\n",
       "    </tr>\n",
       "    <tr>\n",
       "      <th>std</th>\n",
       "      <td>32.802565</td>\n",
       "      <td>90.788058</td>\n",
       "      <td>18.850362</td>\n",
       "      <td>22.845360</td>\n",
       "      <td>39.267613</td>\n",
       "      <td>4.702585</td>\n",
       "      <td>9.750641e+01</td>\n",
       "    </tr>\n",
       "    <tr>\n",
       "      <th>min</th>\n",
       "      <td>-54.800000</td>\n",
       "      <td>-179.166700</td>\n",
       "      <td>-2.130000</td>\n",
       "      <td>1.000000</td>\n",
       "      <td>0.000000</td>\n",
       "      <td>0.450000</td>\n",
       "      <td>1.619728e+09</td>\n",
       "    </tr>\n",
       "    <tr>\n",
       "      <th>25%</th>\n",
       "      <td>-5.198900</td>\n",
       "      <td>-64.383100</td>\n",
       "      <td>47.620000</td>\n",
       "      <td>56.000000</td>\n",
       "      <td>14.000000</td>\n",
       "      <td>3.620000</td>\n",
       "      <td>1.619729e+09</td>\n",
       "    </tr>\n",
       "    <tr>\n",
       "      <th>50%</th>\n",
       "      <td>28.366700</td>\n",
       "      <td>21.548200</td>\n",
       "      <td>64.720000</td>\n",
       "      <td>74.000000</td>\n",
       "      <td>70.000000</td>\n",
       "      <td>6.310000</td>\n",
       "      <td>1.619729e+09</td>\n",
       "    </tr>\n",
       "    <tr>\n",
       "      <th>75%</th>\n",
       "      <td>48.833300</td>\n",
       "      <td>91.399700</td>\n",
       "      <td>77.470000</td>\n",
       "      <td>87.000000</td>\n",
       "      <td>93.000000</td>\n",
       "      <td>9.750000</td>\n",
       "      <td>1.619729e+09</td>\n",
       "    </tr>\n",
       "    <tr>\n",
       "      <th>max</th>\n",
       "      <td>78.218600</td>\n",
       "      <td>179.316700</td>\n",
       "      <td>100.710000</td>\n",
       "      <td>100.000000</td>\n",
       "      <td>100.000000</td>\n",
       "      <td>27.630000</td>\n",
       "      <td>1.619729e+09</td>\n",
       "    </tr>\n",
       "  </tbody>\n",
       "</table>\n",
       "</div>"
      ],
      "text/plain": [
       "              Lat         Lng    Max Temp    Humidity  Cloudiness  Wind Speed  \\\n",
       "count  553.000000  553.000000  553.000000  553.000000  553.000000  553.000000   \n",
       "mean    21.524214   15.813203   61.858517   68.972875   54.954792    7.394629   \n",
       "std     32.802565   90.788058   18.850362   22.845360   39.267613    4.702585   \n",
       "min    -54.800000 -179.166700   -2.130000    1.000000    0.000000    0.450000   \n",
       "25%     -5.198900  -64.383100   47.620000   56.000000   14.000000    3.620000   \n",
       "50%     28.366700   21.548200   64.720000   74.000000   70.000000    6.310000   \n",
       "75%     48.833300   91.399700   77.470000   87.000000   93.000000    9.750000   \n",
       "max     78.218600  179.316700  100.710000  100.000000  100.000000   27.630000   \n",
       "\n",
       "               Date  \n",
       "count  5.530000e+02  \n",
       "mean   1.619729e+09  \n",
       "std    9.750641e+01  \n",
       "min    1.619728e+09  \n",
       "25%    1.619729e+09  \n",
       "50%    1.619729e+09  \n",
       "75%    1.619729e+09  \n",
       "max    1.619729e+09  "
      ]
     },
     "execution_count": 11,
     "metadata": {},
     "output_type": "execute_result"
    }
   ],
   "source": [
    "filtered_city_data.describe()"
   ]
  },
  {
   "cell_type": "code",
   "execution_count": 12,
   "metadata": {},
   "outputs": [
    {
     "data": {
      "text/plain": [
       "Int64Index([], dtype='int64')"
      ]
     },
     "execution_count": 12,
     "metadata": {},
     "output_type": "execute_result"
    }
   ],
   "source": [
    "#  Get the indices of cities that have humidity over 100%.\n",
    "humidity_over_100 = city_data.loc[city_data[\"Humidity\"]>100,:]\n",
    "indexes = humidity_over_100.index\n",
    "indexes"
   ]
  },
  {
   "cell_type": "code",
   "execution_count": 13,
   "metadata": {},
   "outputs": [
    {
     "data": {
      "text/html": [
       "<div>\n",
       "<style scoped>\n",
       "    .dataframe tbody tr th:only-of-type {\n",
       "        vertical-align: middle;\n",
       "    }\n",
       "\n",
       "    .dataframe tbody tr th {\n",
       "        vertical-align: top;\n",
       "    }\n",
       "\n",
       "    .dataframe thead th {\n",
       "        text-align: right;\n",
       "    }\n",
       "</style>\n",
       "<table border=\"1\" class=\"dataframe\">\n",
       "  <thead>\n",
       "    <tr style=\"text-align: right;\">\n",
       "      <th></th>\n",
       "      <th>City</th>\n",
       "      <th>Lat</th>\n",
       "      <th>Lng</th>\n",
       "      <th>Max Temp</th>\n",
       "      <th>Humidity</th>\n",
       "      <th>Cloudiness</th>\n",
       "      <th>Wind Speed</th>\n",
       "      <th>Country</th>\n",
       "      <th>Date</th>\n",
       "    </tr>\n",
       "  </thead>\n",
       "  <tbody>\n",
       "    <tr>\n",
       "      <th>0</th>\n",
       "      <td>kaitangata</td>\n",
       "      <td>-46.2817</td>\n",
       "      <td>169.8464</td>\n",
       "      <td>55.00</td>\n",
       "      <td>76</td>\n",
       "      <td>100</td>\n",
       "      <td>13.00</td>\n",
       "      <td>NZ</td>\n",
       "      <td>1619728647</td>\n",
       "    </tr>\n",
       "    <tr>\n",
       "      <th>1</th>\n",
       "      <td>rikitea</td>\n",
       "      <td>-23.1203</td>\n",
       "      <td>-134.9692</td>\n",
       "      <td>76.48</td>\n",
       "      <td>68</td>\n",
       "      <td>99</td>\n",
       "      <td>10.13</td>\n",
       "      <td>PF</td>\n",
       "      <td>1619728648</td>\n",
       "    </tr>\n",
       "    <tr>\n",
       "      <th>2</th>\n",
       "      <td>hilo</td>\n",
       "      <td>19.7297</td>\n",
       "      <td>-155.0900</td>\n",
       "      <td>80.60</td>\n",
       "      <td>57</td>\n",
       "      <td>20</td>\n",
       "      <td>3.44</td>\n",
       "      <td>US</td>\n",
       "      <td>1619728381</td>\n",
       "    </tr>\n",
       "    <tr>\n",
       "      <th>3</th>\n",
       "      <td>hermanus</td>\n",
       "      <td>-34.4187</td>\n",
       "      <td>19.2345</td>\n",
       "      <td>55.99</td>\n",
       "      <td>74</td>\n",
       "      <td>80</td>\n",
       "      <td>3.00</td>\n",
       "      <td>ZA</td>\n",
       "      <td>1619728648</td>\n",
       "    </tr>\n",
       "    <tr>\n",
       "      <th>4</th>\n",
       "      <td>ushuaia</td>\n",
       "      <td>-54.8000</td>\n",
       "      <td>-68.3000</td>\n",
       "      <td>42.80</td>\n",
       "      <td>56</td>\n",
       "      <td>20</td>\n",
       "      <td>5.75</td>\n",
       "      <td>AR</td>\n",
       "      <td>1619728650</td>\n",
       "    </tr>\n",
       "  </tbody>\n",
       "</table>\n",
       "</div>"
      ],
      "text/plain": [
       "         City      Lat       Lng  Max Temp  Humidity  Cloudiness  Wind Speed  \\\n",
       "0  kaitangata -46.2817  169.8464     55.00        76         100       13.00   \n",
       "1     rikitea -23.1203 -134.9692     76.48        68          99       10.13   \n",
       "2        hilo  19.7297 -155.0900     80.60        57          20        3.44   \n",
       "3    hermanus -34.4187   19.2345     55.99        74          80        3.00   \n",
       "4     ushuaia -54.8000  -68.3000     42.80        56          20        5.75   \n",
       "\n",
       "  Country        Date  \n",
       "0      NZ  1619728647  \n",
       "1      PF  1619728648  \n",
       "2      US  1619728381  \n",
       "3      ZA  1619728648  \n",
       "4      AR  1619728650  "
      ]
     },
     "execution_count": 13,
     "metadata": {},
     "output_type": "execute_result"
    }
   ],
   "source": [
    "# Make a new DataFrame equal to the city data to drop all humidity outliers by index.\n",
    "# Passing \"inplace=False\" will make a copy of the city_data DataFrame, which we call \"clean_city_data\".\n",
    "clean_city_data = city_data\n",
    "\n",
    "# With this loop we can always make sure we drop the rows with humidity over 100 dynamically\n",
    "for i in indexes:\n",
    "    clean_city_data = city_data.drop(city_data.index[i], inplace = False)\n",
    "\n",
    "clean_city_data.head()"
   ]
  },
  {
   "cell_type": "markdown",
   "metadata": {},
   "source": [
    "## Plotting the Data\n",
    "* Use proper labeling of the plots using plot titles (including date of analysis) and axes labels.\n",
    "* Save the plotted figures as .pngs."
   ]
  },
  {
   "cell_type": "markdown",
   "metadata": {},
   "source": [
    "## Latitude vs. Temperature Plot"
   ]
  },
  {
   "cell_type": "code",
   "execution_count": 14,
   "metadata": {
    "scrolled": true
   },
   "outputs": [
    {
     "data": {
      "image/png": "[encoded data removed]",
      "text/plain": [
       "<Figure size 720x360 with 1 Axes>"
      ]
     },
     "metadata": {
      "needs_background": "light"
     },
     "output_type": "display_data"
    }
   ],
   "source": [
    "x_values = clean_city_data[\"Lat\"]\n",
    "y_values = clean_city_data[\"Max Temp\"]\n",
    "\n",
    "## Add properties to the plot\n",
    "plt.figure(figsize=(10,5))\n",
    "plt.xlabel('Latitude')\n",
    "plt.ylabel('Max Temperature (F)')\n",
    "plt.title('City Latitude vs Max Temperature (28/04/2021)')\n",
    "plt.grid()\n",
    "\n",
    "## Create the Scatter plot and linear\n",
    "plt.scatter(x_values,y_values, marker='o', color='#1d71ac', edgecolors='black')\n",
    "\n",
    "plt.savefig(\"Images/lat_vs_max_temp.png\", bbox_inches = \"tight\")\n",
    "plt.show()"
   ]
  },
  {
   "cell_type": "markdown",
   "metadata": {},
   "source": [
    "* The scatter plot shows that max temperatures are near the ecuator.\n",
    "* We can find the lower temperatures to the north hemisphere"
   ]
  },
  {
   "cell_type": "markdown",
   "metadata": {},
   "source": [
    "## Latitude vs. Humidity Plot"
   ]
  },
  {
   "cell_type": "code",
   "execution_count": 15,
   "metadata": {},
   "outputs": [
    {
     "data": {
      "image/png": "[encoded data removed]",
      "text/plain": [
       "<Figure size 720x360 with 1 Axes>"
      ]
     },
     "metadata": {
      "needs_background": "light"
     },
     "output_type": "display_data"
    }
   ],
   "source": [
    "x_values = clean_city_data[\"Lat\"]\n",
    "y_values = clean_city_data[\"Humidity\"]\n",
    "\n",
    "## Add properties to the plot\n",
    "plt.figure(figsize=(10,5))\n",
    "plt.xlabel('Latitude')\n",
    "plt.ylabel('Humidity (%)')\n",
    "plt.title('City Latitude vs Humidity (28/04/2021)')\n",
    "plt.grid()\n",
    "\n",
    "## Create the Scatter plot and linear\n",
    "plt.scatter(x_values,y_values, marker='o', color='#1d71ac', edgecolors='black')\n",
    "\n",
    "plt.savefig(\"Images/lat_vs_humitidy.png\", bbox_inches = \"tight\")\n",
    "plt.show()"
   ]
  },
  {
   "cell_type": "markdown",
   "metadata": {},
   "source": [
    "* The plot doesn't show a clear relation between latitude and humidity.\n",
    "* The highest values for humidity are present in almost all the latitudes"
   ]
  },
  {
   "cell_type": "markdown",
   "metadata": {},
   "source": [
    "## Latitude vs. Cloudiness Plot"
   ]
  },
  {
   "cell_type": "code",
   "execution_count": 17,
   "metadata": {},
   "outputs": [
    {
     "data": {
      "image/png": "[encoded data removed]",
      "text/plain": [
       "<Figure size 720x360 with 1 Axes>"
      ]
     },
     "metadata": {
      "needs_background": "light"
     },
     "output_type": "display_data"
    }
   ],
   "source": [
    "x_values = clean_city_data[\"Lat\"]\n",
    "y_values = clean_city_data[\"Cloudiness\"]\n",
    "\n",
    "## Add properties to the plot\n",
    "plt.figure(figsize=(10,5))\n",
    "plt.xlabel('Latitude')\n",
    "plt.ylabel('Cloudiness (%)')\n",
    "plt.title('City Latitude vs Cloudiness (28/04/2021)')\n",
    "plt.grid()\n",
    "\n",
    "## Create the Scatter plot and linear\n",
    "plt.scatter(x_values,y_values, marker='o', color='#1d71ac', edgecolors='black')\n",
    "\n",
    "plt.savefig(\"Images/lat_vs_cloudiness.png\", bbox_inches = \"tight\")\n",
    "plt.show()"
   ]
  },
  {
   "cell_type": "markdown",
   "metadata": {},
   "source": [
    "* This plot also doesn't show a clear relation between Cloudiness and latitude"
   ]
  },
  {
   "cell_type": "markdown",
   "metadata": {},
   "source": [
    "## Latitude vs. Wind Speed Plot"
   ]
  },
  {
   "cell_type": "code",
   "execution_count": 18,
   "metadata": {},
   "outputs": [
    {
     "data": {
      "image/png": "[encoded data removed]",
      "text/plain": [
       "<Figure size 720x360 with 1 Axes>"
      ]
     },
     "metadata": {
      "needs_background": "light"
     },
     "output_type": "display_data"
    }
   ],
   "source": [
    "x_values = clean_city_data[\"Lat\"]\n",
    "y_values = clean_city_data[\"Wind Speed\"]\n",
    "\n",
    "## Add properties to the plot\n",
    "plt.figure(figsize=(10,5))\n",
    "plt.xlabel('Latitude')\n",
    "plt.ylabel('Wind Speed (mph)')\n",
    "plt.title('City Latitude vs Wind Speed (28/04/2021)')\n",
    "plt.grid()\n",
    "\n",
    "## Create the Scatter plot and linear\n",
    "plt.scatter(x_values,y_values, marker='o', color='#1d71ac', edgecolors='black')\n",
    "\n",
    "plt.savefig(\"Images/lat_vs_wind_speed.png\", bbox_inches = \"tight\")\n",
    "plt.show()"
   ]
  },
  {
   "cell_type": "markdown",
   "metadata": {},
   "source": [
    "* This plot also doesn't show a clear relation between Wind Speed and latitude.\n",
    "* Near ecuator the plot shows both low and high Wind speeds."
   ]
  },
  {
   "cell_type": "markdown",
   "metadata": {},
   "source": [
    "## Linear Regression"
   ]
  },
  {
   "cell_type": "code",
   "execution_count": null,
   "metadata": {},
   "outputs": [],
   "source": []
  },
  {
   "cell_type": "markdown",
   "metadata": {},
   "source": [
    "####  Northern Hemisphere - Max Temp vs. Latitude Linear Regression"
   ]
  },
  {
   "cell_type": "code",
   "execution_count": 19,
   "metadata": {},
   "outputs": [],
   "source": [
    "north_hemisphere_data = clean_city_data.loc[clean_city_data[\"Lat\"]>=0,:]\n",
    "south_hemisphere_data = clean_city_data.loc[clean_city_data[\"Lat\"]<0,:]"
   ]
  },
  {
   "cell_type": "code",
   "execution_count": 20,
   "metadata": {},
   "outputs": [],
   "source": [
    "column = 'Max Temp'"
   ]
  },
  {
   "cell_type": "code",
   "execution_count": 21,
   "metadata": {},
   "outputs": [
    {
     "name": "stdout",
     "output_type": "stream",
     "text": [
      "----------------------------------------------------------------------\n",
      "The correlation between both factors is -0.86\n",
      "y = -0.89x +93.23\n",
      "The r-value is: 0.7383952427921905\n",
      "----------------------------------------------------------------------\n"
     ]
    },
    {
     "data": {
      "image/png": "[encoded data removed]",
      "text/plain": [
       "<Figure size 720x360 with 1 Axes>"
      ]
     },
     "metadata": {
      "needs_background": "light"
     },
     "output_type": "display_data"
    }
   ],
   "source": [
    "x_values = north_hemisphere_data['Lat']\n",
    "y_values = north_hemisphere_data[column]\n",
    "\n",
    "correlation = st.pearsonr(x_values,y_values)\n",
    "\n",
    "(slope, intercept, rvalue, pvalue, stderr) = st.linregress(x_values, y_values)\n",
    "regress_values = x_values * slope + intercept\n",
    "\n",
    "## Get the line equation\n",
    "line_eq = \"y = \" + str(round(slope,2)) + \"x +\" + str(round(intercept,2))\n",
    "\n",
    "## Add properties to the plot\n",
    "plt.figure(figsize=(10,5))\n",
    "plt.xlabel('Latitude')\n",
    "plt.ylabel(column)\n",
    "plt.title(f\"{column} vs. Latitude\")\n",
    "plt.annotate(line_eq,(16,20),fontsize=15,color=\"red\")\n",
    "plt.grid()\n",
    "\n",
    "## Create the Scatter plot and linear\n",
    "plt.scatter(x_values,y_values)\n",
    "plt.plot(x_values,regress_values,\"r-\")\n",
    "\n",
    "## Print the calcuations\n",
    "print(\"----------------------------------------------------------------------\")\n",
    "print(f\"The correlation between both factors is {round(correlation[0],2)}\")\n",
    "print(line_eq)\n",
    "print(f\"The r-value is: {rvalue**2}\")\n",
    "print(\"----------------------------------------------------------------------\")\n",
    "\n",
    "plt.savefig(\"Images/nh_lat_vs_temp.png\", bbox_inches = \"tight\")\n",
    "\n",
    "## Show plot\n",
    "plt.show()"
   ]
  },
  {
   "cell_type": "markdown",
   "metadata": {},
   "source": [
    "* The plot shows the closer we get to the equator the temperatures increase\n",
    "* The r-value is greater than .1 wich indicates there is a strong correlation."
   ]
  },
  {
   "cell_type": "markdown",
   "metadata": {},
   "source": [
    "####  Southern Hemisphere - Max Temp vs. Latitude Linear Regression"
   ]
  },
  {
   "cell_type": "code",
   "execution_count": 23,
   "metadata": {},
   "outputs": [
    {
     "name": "stdout",
     "output_type": "stream",
     "text": [
      "----------------------------------------------------------------------\n",
      "The correlation between both factors is 0.77\n",
      "y = 0.62x +82.54\n",
      "The r-value is: 0.6004254804436255\n",
      "----------------------------------------------------------------------\n"
     ]
    },
    {
     "data": {
      "image/png": "[encoded data removed]",
      "text/plain": [
       "<Figure size 720x360 with 1 Axes>"
      ]
     },
     "metadata": {
      "needs_background": "light"
     },
     "output_type": "display_data"
    }
   ],
   "source": [
    "x_values = south_hemisphere_data['Lat']\n",
    "y_values = south_hemisphere_data['Max Temp']\n",
    "\n",
    "correlation = st.pearsonr(x_values,y_values)\n",
    "\n",
    "(slope, intercept, rvalue, pvalue, stderr) = st.linregress(x_values, y_values)\n",
    "regress_values = x_values * slope + intercept\n",
    "\n",
    "## Get the line equation\n",
    "line_eq = \"y = \" + str(round(slope,2)) + \"x +\" + str(round(intercept,2))\n",
    "\n",
    "## Add properties to the plot\n",
    "plt.figure(figsize=(10,5))\n",
    "plt.xlabel('Latitude')\n",
    "plt.ylabel('Max Temp')\n",
    "plt.title(f\"{column} vs. Latitude\")\n",
    "plt.annotate(line_eq,(-50,80),fontsize=15,color=\"red\")\n",
    "plt.grid()\n",
    "\n",
    "## Create the Scatter plot and linear\n",
    "plt.scatter(x_values,y_values)\n",
    "plt.plot(x_values,regress_values,\"r-\")\n",
    "\n",
    "## Print the calcuations\n",
    "print(\"----------------------------------------------------------------------\")\n",
    "print(f\"The correlation between both factors is {round(correlation[0],2)}\")\n",
    "print(line_eq)\n",
    "print(f\"The r-value is: {rvalue**2}\")\n",
    "print(\"----------------------------------------------------------------------\")\n",
    "\n",
    "plt.savefig(\"Images/sh_lat_vs_temp.png\", bbox_inches = \"tight\")\n",
    "## Show plot\n",
    "plt.show()"
   ]
  },
  {
   "cell_type": "markdown",
   "metadata": {},
   "source": [
    "* The plot shows the closer we get to the equator the temperatures increase\n",
    "* The r-value is greater than .1 wich indicates there is a strong correlation."
   ]
  },
  {
   "cell_type": "markdown",
   "metadata": {},
   "source": [
    "####  Northern Hemisphere - Humidity (%) vs. Latitude Linear Regression"
   ]
  },
  {
   "cell_type": "code",
   "execution_count": 24,
   "metadata": {},
   "outputs": [],
   "source": [
    "column = 'Humidity'"
   ]
  },
  {
   "cell_type": "code",
   "execution_count": 25,
   "metadata": {},
   "outputs": [
    {
     "name": "stdout",
     "output_type": "stream",
     "text": [
      "----------------------------------------------------------------------\n",
      "The correlation between both factors is 0.13\n",
      "y = 0.16x +59.35\n",
      "The r-value is: 0.01724790917108747\n",
      "----------------------------------------------------------------------\n"
     ]
    },
    {
     "data": {
      "image/png": "[encoded data removed]",
      "text/plain": [
       "<Figure size 720x360 with 1 Axes>"
      ]
     },
     "metadata": {
      "needs_background": "light"
     },
     "output_type": "display_data"
    }
   ],
   "source": [
    "x_values = north_hemisphere_data['Lat']\n",
    "y_values = north_hemisphere_data[column]\n",
    "\n",
    "correlation = st.pearsonr(x_values,y_values)\n",
    "\n",
    "(slope, intercept, rvalue, pvalue, stderr) = st.linregress(x_values, y_values)\n",
    "regress_values = x_values * slope + intercept\n",
    "\n",
    "## Get the line equation\n",
    "line_eq = \"y = \" + str(round(slope,2)) + \"x +\" + str(round(intercept,2))\n",
    "\n",
    "## Add properties to the plot\n",
    "plt.figure(figsize=(10,5))\n",
    "plt.xlabel('Latitude')\n",
    "plt.ylabel(column)\n",
    "plt.title(f\"{column} vs. Latitude\")\n",
    "plt.annotate(line_eq,(50,10),fontsize=15,color=\"red\")\n",
    "plt.grid()\n",
    "\n",
    "## Create the Scatter plot and linear\n",
    "plt.scatter(x_values,y_values)\n",
    "plt.plot(x_values,regress_values,\"r-\")\n",
    "\n",
    "## Print the calcuations\n",
    "print(\"----------------------------------------------------------------------\")\n",
    "print(f\"The correlation between both factors is {round(correlation[0],2)}\")\n",
    "print(line_eq)\n",
    "print(f\"The r-value is: {rvalue**2}\")\n",
    "print(\"----------------------------------------------------------------------\")\n",
    "\n",
    "plt.savefig(\"Images/nh_lat_vs_hum.png\", bbox_inches = \"tight\")\n",
    "## Show plot\n",
    "plt.show()"
   ]
  },
  {
   "cell_type": "markdown",
   "metadata": {},
   "source": [
    "* The r-value is lower than .1 wich tell us that there is no a strong correlation between humidity and Latitude"
   ]
  },
  {
   "cell_type": "markdown",
   "metadata": {},
   "source": [
    "####  Southern Hemisphere - Humidity (%) vs. Latitude Linear Regression"
   ]
  },
  {
   "cell_type": "code",
   "execution_count": 26,
   "metadata": {},
   "outputs": [
    {
     "name": "stdout",
     "output_type": "stream",
     "text": [
      "----------------------------------------------------------------------\n",
      "The correlation between both factors is 0.12\n",
      "y = 0.13x +79.81\n",
      "The r-value is: 0.013583041234121128\n",
      "----------------------------------------------------------------------\n"
     ]
    },
    {
     "data": {
      "image/png": "[encoded data removed]",
      "text/plain": [
       "<Figure size 720x360 with 1 Axes>"
      ]
     },
     "metadata": {
      "needs_background": "light"
     },
     "output_type": "display_data"
    }
   ],
   "source": [
    "x_values = south_hemisphere_data['Lat']\n",
    "y_values = south_hemisphere_data[column]\n",
    "\n",
    "correlation = st.pearsonr(x_values,y_values)\n",
    "\n",
    "(slope, intercept, rvalue, pvalue, stderr) = st.linregress(x_values, y_values)\n",
    "regress_values = x_values * slope + intercept\n",
    "\n",
    "## Get the line equation\n",
    "line_eq = \"y = \" + str(round(slope,2)) + \"x +\" + str(round(intercept,2))\n",
    "\n",
    "## Add properties to the plot\n",
    "plt.figure(figsize=(10,5))\n",
    "plt.xlabel('Latitude')\n",
    "plt.ylabel(column)\n",
    "plt.title(f\"{column} vs. Latitude\")\n",
    "plt.annotate(line_eq,(-50,20),fontsize=15,color=\"red\")\n",
    "plt.grid()\n",
    "\n",
    "## Create the Scatter plot and linear\n",
    "plt.scatter(x_values,y_values)\n",
    "plt.plot(x_values,regress_values,\"r-\")\n",
    "\n",
    "## Print the calcuations\n",
    "print(\"----------------------------------------------------------------------\")\n",
    "print(f\"The correlation between both factors is {round(correlation[0],2)}\")\n",
    "print(line_eq)\n",
    "print(f\"The r-value is: {rvalue**2}\")\n",
    "print(\"----------------------------------------------------------------------\")\n",
    "\n",
    "plt.savefig(\"Images/sh_lat_vs_hum.png\", bbox_inches = \"tight\")\n",
    "## Show plot\n",
    "plt.show()"
   ]
  },
  {
   "cell_type": "markdown",
   "metadata": {},
   "source": [
    "* There is no a strong correlation in the other hemisphere, the r-value is lower than .1"
   ]
  },
  {
   "cell_type": "markdown",
   "metadata": {},
   "source": [
    "####  Northern Hemisphere - Cloudiness (%) vs. Latitude Linear Regression"
   ]
  },
  {
   "cell_type": "code",
   "execution_count": 27,
   "metadata": {},
   "outputs": [],
   "source": [
    "column = 'Cloudiness'"
   ]
  },
  {
   "cell_type": "code",
   "execution_count": 28,
   "metadata": {},
   "outputs": [
    {
     "name": "stdout",
     "output_type": "stream",
     "text": [
      "----------------------------------------------------------------------\n",
      "The correlation between both factors is 0.15\n",
      "y = 0.29x +45.6\n",
      "The r-value is: 0.02133043659037734\n",
      "----------------------------------------------------------------------\n"
     ]
    },
    {
     "data": {
      "image/png": "[encoded data removed]",
      "text/plain": [
       "<Figure size 720x360 with 1 Axes>"
      ]
     },
     "metadata": {
      "needs_background": "light"
     },
     "output_type": "display_data"
    }
   ],
   "source": [
    "x_values = north_hemisphere_data['Lat']\n",
    "y_values = north_hemisphere_data[column]\n",
    "\n",
    "correlation = st.pearsonr(x_values,y_values)\n",
    "\n",
    "(slope, intercept, rvalue, pvalue, stderr) = st.linregress(x_values, y_values)\n",
    "regress_values = x_values * slope + intercept\n",
    "\n",
    "## Get the line equation\n",
    "line_eq = \"y = \" + str(round(slope,2)) + \"x +\" + str(round(intercept,2))\n",
    "\n",
    "## Add properties to the plot\n",
    "plt.figure(figsize=(10,5))\n",
    "plt.xlabel('Latitude')\n",
    "plt.ylabel(column)\n",
    "plt.title(f\"{column} vs. Latitude\")\n",
    "plt.annotate(line_eq,(16,20),fontsize=15,color=\"red\")\n",
    "plt.grid()\n",
    "\n",
    "## Create the Scatter plot and linear\n",
    "plt.scatter(x_values,y_values)\n",
    "plt.plot(x_values,regress_values,\"r-\")\n",
    "\n",
    "## Print the calcuations\n",
    "print(\"----------------------------------------------------------------------\")\n",
    "print(f\"The correlation between both factors is {round(correlation[0],2)}\")\n",
    "print(line_eq)\n",
    "print(f\"The r-value is: {rvalue**2}\")\n",
    "print(\"----------------------------------------------------------------------\")\n",
    "\n",
    "plt.savefig(\"Images/nh_lat_vs_cloud.png\", bbox_inches = \"tight\")\n",
    "## Show plot\n",
    "plt.show()"
   ]
  },
  {
   "cell_type": "markdown",
   "metadata": {},
   "source": [
    "* The same case for Cloudiness, the r-value is below .1"
   ]
  },
  {
   "cell_type": "markdown",
   "metadata": {},
   "source": [
    "####  Southern Hemisphere - Cloudiness (%) vs. Latitude Linear Regression"
   ]
  },
  {
   "cell_type": "code",
   "execution_count": 29,
   "metadata": {},
   "outputs": [
    {
     "name": "stdout",
     "output_type": "stream",
     "text": [
      "----------------------------------------------------------------------\n",
      "The correlation between both factors is 0.18\n",
      "y = 0.52x +61.33\n",
      "The r-value is: 0.0316864818035618\n",
      "----------------------------------------------------------------------\n"
     ]
    },
    {
     "data": {
      "image/png": "[encoded data removed]",
      "text/plain": [
       "<Figure size 720x360 with 1 Axes>"
      ]
     },
     "metadata": {
      "needs_background": "light"
     },
     "output_type": "display_data"
    }
   ],
   "source": [
    "x_values = south_hemisphere_data['Lat']\n",
    "y_values = south_hemisphere_data[column]\n",
    "\n",
    "correlation = st.pearsonr(x_values,y_values)\n",
    "\n",
    "(slope, intercept, rvalue, pvalue, stderr) = st.linregress(x_values, y_values)\n",
    "regress_values = x_values * slope + intercept\n",
    "\n",
    "## Get the line equation\n",
    "line_eq = \"y = \" + str(round(slope,2)) + \"x +\" + str(round(intercept,2))\n",
    "\n",
    "## Add properties to the plot\n",
    "plt.figure(figsize=(10,5))\n",
    "plt.xlabel('Latitude')\n",
    "plt.ylabel(column)\n",
    "plt.title(f\"{column} vs. Latitude\")\n",
    "plt.annotate(line_eq,(16,20),fontsize=15,color=\"red\")\n",
    "plt.grid()\n",
    "\n",
    "## Create the Scatter plot and linear\n",
    "plt.scatter(x_values,y_values)\n",
    "plt.plot(x_values,regress_values,\"r-\")\n",
    "\n",
    "## Print the calcuations\n",
    "print(\"----------------------------------------------------------------------\")\n",
    "print(f\"The correlation between both factors is {round(correlation[0],2)}\")\n",
    "print(line_eq)\n",
    "print(f\"The r-value is: {rvalue**2}\")\n",
    "print(\"----------------------------------------------------------------------\")\n",
    "\n",
    "plt.savefig(\"Images/sh_lat_vs_cloud.png\", bbox_inches = \"tight\")\n",
    "## Show plot\n",
    "plt.show()"
   ]
  },
  {
   "cell_type": "markdown",
   "metadata": {},
   "source": [
    "* The same for the other hemisphere, there is no strong correlation between cloudiness and latitude"
   ]
  },
  {
   "cell_type": "markdown",
   "metadata": {},
   "source": [
    "####  Northern Hemisphere - Wind Speed (mph) vs. Latitude Linear Regression"
   ]
  },
  {
   "cell_type": "code",
   "execution_count": 30,
   "metadata": {},
   "outputs": [],
   "source": [
    "column = 'Wind Speed'"
   ]
  },
  {
   "cell_type": "code",
   "execution_count": 31,
   "metadata": {},
   "outputs": [
    {
     "name": "stdout",
     "output_type": "stream",
     "text": [
      "----------------------------------------------------------------------\n",
      "The correlation between both factors is 0.1\n",
      "y = 0.02x +6.48\n",
      "The r-value is: 0.009784079291017569\n",
      "----------------------------------------------------------------------\n"
     ]
    },
    {
     "data": {
      "image/png": "[encoded data removed]",
      "text/plain": [
       "<Figure size 720x360 with 1 Axes>"
      ]
     },
     "metadata": {
      "needs_background": "light"
     },
     "output_type": "display_data"
    }
   ],
   "source": [
    "x_values = north_hemisphere_data['Lat']\n",
    "y_values = north_hemisphere_data[column]\n",
    "\n",
    "correlation = st.pearsonr(x_values,y_values)\n",
    "\n",
    "(slope, intercept, rvalue, pvalue, stderr) = st.linregress(x_values, y_values)\n",
    "regress_values = x_values * slope + intercept\n",
    "\n",
    "## Get the line equation\n",
    "line_eq = \"y = \" + str(round(slope,2)) + \"x +\" + str(round(intercept,2))\n",
    "\n",
    "## Add properties to the plot\n",
    "plt.figure(figsize=(10,5))\n",
    "plt.xlabel('Latitude')\n",
    "plt.ylabel(column)\n",
    "plt.title(f\"{column} vs. Latitude\")\n",
    "plt.annotate(line_eq,(50,25),fontsize=15,color=\"red\")\n",
    "plt.grid()\n",
    "\n",
    "## Create the Scatter plot and linear\n",
    "plt.scatter(x_values,y_values)\n",
    "plt.plot(x_values,regress_values,\"r-\")\n",
    "\n",
    "## Print the calcuations\n",
    "print(\"----------------------------------------------------------------------\")\n",
    "print(f\"The correlation between both factors is {round(correlation[0],2)}\")\n",
    "print(line_eq)\n",
    "print(f\"The r-value is: {rvalue**2}\")\n",
    "print(\"----------------------------------------------------------------------\")\n",
    "\n",
    "plt.savefig(\"Images/nh_lat_vs_wind.png\", bbox_inches = \"tight\")\n",
    "## Show plot\n",
    "plt.show()"
   ]
  },
  {
   "cell_type": "markdown",
   "metadata": {},
   "source": [
    "* There is no correlation between Wind speed and latitude"
   ]
  },
  {
   "cell_type": "markdown",
   "metadata": {},
   "source": [
    "####  Southern Hemisphere - Wind Speed (mph) vs. Latitude Linear Regression"
   ]
  },
  {
   "cell_type": "code",
   "execution_count": 32,
   "metadata": {},
   "outputs": [
    {
     "name": "stdout",
     "output_type": "stream",
     "text": [
      "----------------------------------------------------------------------\n",
      "The correlation between both factors is -0.1\n",
      "y = -0.03x +6.65\n",
      "The r-value is: 0.009976765058636039\n",
      "----------------------------------------------------------------------\n"
     ]
    },
    {
     "data": {
      "image/png": "[encoded data removed]",
      "text/plain": [
       "<Figure size 720x360 with 1 Axes>"
      ]
     },
     "metadata": {
      "needs_background": "light"
     },
     "output_type": "display_data"
    }
   ],
   "source": [
    "x_values = south_hemisphere_data['Lat']\n",
    "y_values = south_hemisphere_data[column]\n",
    "\n",
    "correlation = st.pearsonr(x_values,y_values)\n",
    "\n",
    "(slope, intercept, rvalue, pvalue, stderr) = st.linregress(x_values, y_values)\n",
    "regress_values = x_values * slope + intercept\n",
    "\n",
    "## Get the line equation\n",
    "line_eq = \"y = \" + str(round(slope,2)) + \"x +\" + str(round(intercept,2))\n",
    "\n",
    "## Add properties to the plot\n",
    "plt.figure(figsize=(10,5))\n",
    "plt.xlabel('Latitude')\n",
    "plt.ylabel(column)\n",
    "plt.title(f\"{column} vs. Latitude\")\n",
    "plt.annotate(line_eq,(-50,20),fontsize=15,color=\"red\")\n",
    "plt.grid()\n",
    "\n",
    "## Create the Scatter plot and linear\n",
    "plt.scatter(x_values,y_values)\n",
    "plt.plot(x_values,regress_values,\"r-\")\n",
    "\n",
    "## Print the calcuations\n",
    "print(\"----------------------------------------------------------------------\")\n",
    "print(f\"The correlation between both factors is {round(correlation[0],2)}\")\n",
    "print(line_eq)\n",
    "print(f\"The r-value is: {rvalue**2}\")\n",
    "print(\"----------------------------------------------------------------------\")\n",
    "\n",
    "plt.savefig(\"Images/sh_lat_vs_wind.png\", bbox_inches = \"tight\")\n",
    "## Show plot\n",
    "plt.show()"
   ]
  },
  {
   "cell_type": "markdown",
   "metadata": {},
   "source": [
    "* There is no correlation between Wind speed and latitude in the other hemisphere"
   ]
  },
  {
   "cell_type": "code",
   "execution_count": null,
   "metadata": {},
   "outputs": [],
   "source": []
  }
 ],
 "metadata": {
  "anaconda-cloud": {},
  "kernel_info": {
   "name": "python3"
  },
  "kernelspec": {
   "display_name": "Python [conda env:Python_01] *",
   "language": "python",
   "name": "conda-env-Python_01-py"
  },
  "language_info": {
   "codemirror_mode": {
    "name": "ipython",
    "version": 3
   },
   "file_extension": ".py",
   "mimetype": "text/x-python",
   "name": "python",
   "nbconvert_exporter": "python",
   "pygments_lexer": "ipython3",
   "version": "3.6.10"
  },
  "latex_envs": {
   "LaTeX_envs_menu_present": true,
   "autoclose": false,
   "autocomplete": true,
   "bibliofile": "biblio.bib",
   "cite_by": "apalike",
   "current_citInitial": 1,
   "eqLabelWithNumbers": true,
   "eqNumInitial": 1,
   "hotkeys": {
    "equation": "Ctrl-E",
    "itemize": "Ctrl-I"
   },
   "labels_anchors": false,
   "latex_user_defs": false,
   "report_style_numbering": false,
   "user_envs_cfg": false
  },
  "nteract": {
   "version": "0.12.3"
  }
 },
 "nbformat": 4,
 "nbformat_minor": 2
}
